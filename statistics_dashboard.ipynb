{
 "cells": [
  {
   "cell_type": "code",
   "execution_count": 1,
   "id": "5fffa8aa-79f2-4295-814a-800d127771a2",
   "metadata": {},
   "outputs": [],
   "source": [
    "# importing the libraries\n",
    "\n",
    "import numpy as np\n",
    "import matplotlib.pyplot as plt"
   ]
  },
  {
   "cell_type": "code",
   "execution_count": 2,
   "id": "e1419aec-b36a-4860-a979-db0bd37a30b8",
   "metadata": {},
   "outputs": [
    {
     "name": "stdout",
     "output_type": "stream",
     "text": [
      "Dataset:  [101 142  64 121 110  70 132 136 124 124 137 149  73  52  71 102  51 137\n",
      "  79  87  51 113 109  70  82 125 107  71 138  98 140 108  91 141 109 129\n",
      "  64 111 111  96 111 100 104 113  52 100  56  70 122  88  67  53 138 109\n",
      "  63  58 139 102  51 133 141 109 120  93  57  96  84 127 130  85  99  53\n",
      "  51  55 103  53 103 142 112  67 139  93  83 123 111 149  63 144  97  64\n",
      " 121 127 136 111  89 134 129 131 102  73]\n"
     ]
    }
   ],
   "source": [
    "# generate random dataset\n",
    "\n",
    "np.random.seed(42)\n",
    "data = np.random.randint(50, 150, size=100) # 100 random integers between 50 and 150\n",
    "print(\"Dataset: \", data)"
   ]
  },
  {
   "cell_type": "code",
   "execution_count": 3,
   "id": "2dedd5b1-f6a8-4fc3-b73f-9f5c9fab5caa",
   "metadata": {},
   "outputs": [],
   "source": [
    "# a function to compute the following\n",
    "\n",
    "def calculate_statistics(data):\n",
    "    stats = {\n",
    "        \"Mean\": np.mean(data),\n",
    "        \"Median\": np.median(data),\n",
    "        \"Standard Deviation\": np.std(data),\n",
    "        \"Variance\": np.var(data),\n",
    "        \"Min\": np.min(data),\n",
    "        \"Max\": np.min(data),\n",
    "        \"25th Percentile\": np.percentile(data, 25),\n",
    "        \"75th Percentile\": np.percentile(data, 75),\n",
    "        \n",
    "    }\n",
    "    return stats\n",
    "    "
   ]
  },
  {
   "cell_type": "code",
   "execution_count": 4,
   "id": "5d6570f2-4727-4a5a-a6b6-a4c69e193201",
   "metadata": {},
   "outputs": [
    {
     "name": "stdout",
     "output_type": "stream",
     "text": [
      "\n",
      "Statistics Dashboard\n",
      "Mean:  100.54\n",
      "Median:  103.00\n",
      "Standard Deviation:  29.28\n",
      "Variance:  857.23\n",
      "Min:  51.00\n",
      "Max:  51.00\n",
      "25th Percentile:  72.50\n",
      "75th Percentile:  125.50\n"
     ]
    }
   ],
   "source": [
    "# results\n",
    "\n",
    "stats = calculate_statistics(data)\n",
    "print(\"\\nStatistics Dashboard\")\n",
    "for key, value in stats.items():\n",
    "    print(f\"{key}: {value: .2f}\")"
   ]
  },
  {
   "cell_type": "code",
   "execution_count": 5,
   "id": "3b4854f0-229e-4c32-8855-8af351228869",
   "metadata": {},
   "outputs": [
    {
     "data": {
      "image/png": "[encoded data removed]",
      "text/plain": [
       "<Figure size 640x480 with 1 Axes>"
      ]
     },
     "metadata": {},
     "output_type": "display_data"
    }
   ],
   "source": [
    "# visualize the data\n",
    "\n",
    "plt.hist(data, bins=10, color='skyblue', edgecolor='black')\n",
    "plt.title(\"Dataset Distribution\")\n",
    "plt.xlabel(\"Values\")\n",
    "plt.ylabel(\"Frequency\")\n",
    "plt.grid(True)\n",
    "plt.show()"
   ]
  },
  {
   "cell_type": "code",
   "execution_count": null,
   "id": "8ecda08d-7080-4880-8780-9fce865ad53c",
   "metadata": {},
   "outputs": [],
   "source": []
  }
 ],
 "metadata": {
  "kernelspec": {
   "display_name": "Python 3 (ipykernel)",
   "language": "python",
   "name": "python3"
  },
  "language_info": {
   "codemirror_mode": {
    "name": "ipython",
    "version": 3
   },
   "file_extension": ".py",
   "mimetype": "text/x-python",
   "name": "python",
   "nbconvert_exporter": "python",
   "pygments_lexer": "ipython3",
   "version": "3.11.7"
  }
 },
 "nbformat": 4,
 "nbformat_minor": 5
}
